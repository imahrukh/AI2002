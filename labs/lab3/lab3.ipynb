{
  "nbformat": 4,
  "nbformat_minor": 0,
  "metadata": {
    "colab": {
      "provenance": []
    },
    "kernelspec": {
      "name": "python3",
      "display_name": "Python 3"
    },
    "language_info": {
      "name": "python"
    }
  },
  "cells": [
    {
      "cell_type": "code",
      "execution_count": null,
      "metadata": {
        "colab": {
          "base_uri": "https://localhost:8080/"
        },
        "id": "tD4qRJo5j6-e",
        "outputId": "9a4677fd-9b27-4599-c23c-b04422bf0871"
      },
      "outputs": [
        {
          "output_type": "stream",
          "name": "stdout",
          "text": [
            "Start Position: (0, 2)\n",
            "Goal Position: (6, 0)\n",
            "\n",
            "BFS Path: [(0, 2), (1, 2), (1, 3), (1, 4), (2, 4), (2, 5), (3, 5), (4, 5), (4, 4), (5, 4), (6, 4), (6, 3), (6, 2), (6, 1), (6, 0)]\n",
            "DFS Path: [(0, 2), (0, 3), (1, 3), (1, 4), (2, 4), (2, 5), (3, 5), (4, 5), (4, 4), (5, 4), (6, 4), (6, 3), (6, 2), (6, 1), (6, 0)]\n"
          ]
        }
      ],
      "source": [
        "from collections import deque\n",
        "\n",
        "# Function to read the cube from a text file\n",
        "def read_cube(filename):\n",
        "    cube = []\n",
        "    start = None\n",
        "    goal = None\n",
        "\n",
        "    with open(filename, \"r\") as file:\n",
        "        for i, line in enumerate(file):\n",
        "            row = line.strip().split()\n",
        "            if \"S\" in row:\n",
        "                start = (i, row.index(\"S\"))  # Find start position\n",
        "                row[start[1]] = \"0\"  # Replace 'S' with 0\n",
        "            if \"G\" in row:\n",
        "                goal = (i, row.index(\"G\"))  # Find goal position\n",
        "                row[goal[1]] = \"0\"  # Replace 'G' with 0\n",
        "            cube.append([int(cell) if cell.isdigit() else 0 for cell in row])  # Convert to integers\n",
        "    return cube, start, goal\n",
        "\n",
        "# BFS Algorithm\n",
        "def bfs(cube, start, goal):\n",
        "    rows, cols = len(cube), len(cube[0])\n",
        "    queue = deque([(start, [start])])  # (current_position, path_taken)\n",
        "    visited = set()\n",
        "\n",
        "    while queue:\n",
        "        (x, y), path = queue.popleft()\n",
        "        if (x, y) == goal:\n",
        "            return path  # Return the path if goal is reached\n",
        "\n",
        "        if (x, y) in visited:\n",
        "            continue\n",
        "        visited.add((x, y))\n",
        "\n",
        "        # Possible directions (Up, Down, Left, Right)\n",
        "        for dx, dy in [(-1, 0), (1, 0), (0, -1), (0, 1)]:\n",
        "            nx, ny = x + dx, y + dy\n",
        "            if 0 <= nx < rows and 0 <= ny < cols and cube[nx][ny] == 0 and (nx, ny) not in visited:\n",
        "                queue.append(((nx, ny), path + [(nx, ny)]))  # Add new position\n",
        "\n",
        "    return -1  # No path found\n",
        "\n",
        "# DFS Algorithm\n",
        "def dfs(cube, start, goal):\n",
        "    rows, cols = len(cube), len(cube[0])\n",
        "    stack = [(start, [start])]\n",
        "    visited = set()\n",
        "\n",
        "    while stack:\n",
        "        (x, y), path = stack.pop()\n",
        "        if (x, y) == goal:\n",
        "            return path\n",
        "\n",
        "        if (x, y) in visited:\n",
        "            continue\n",
        "        visited.add((x, y))\n",
        "\n",
        "        for dx, dy in [(-1, 0), (1, 0), (0, -1), (0, 1)]:\n",
        "            nx, ny = x + dx, y + dy\n",
        "            if 0 <= nx < rows and 0 <= ny < cols and cube[nx][ny] == 0 and (nx, ny) not in visited:\n",
        "                stack.append(((nx, ny), path + [(nx, ny)]))\n",
        "\n",
        "    return -1\n",
        "\n",
        "if __name__ == \"__main__\":\n",
        "    filename = \"cube.txt\"\n",
        "    cube, start, goal = read_cube(filename)\n",
        "\n",
        "    print(\"Start Position:\", start)\n",
        "    print(\"Goal Position:\", goal)\n",
        "\n",
        "    bfs_path = bfs(cube, start, goal)\n",
        "    dfs_path = dfs(cube, start, goal)\n",
        "\n",
        "    print(\"\\nBFS Path:\", bfs_path if bfs_path != -1 else \"No path found\")\n",
        "    print(\"DFS Path:\", dfs_path if dfs_path != -1 else \"No path found\")\n"
      ]
    },
    {
      "cell_type": "code",
      "source": [
        "from google.colab import drive\n",
        "drive.mount('/content/drive')"
      ],
      "metadata": {
        "id": "iDlubfBosldd"
      },
      "execution_count": null,
      "outputs": []
    },
    {
      "cell_type": "code",
      "source": [
        "import heapq  # Priority queue for UCS\n",
        "\n",
        "# Function to perform Uniform Cost Search (UCS)\n",
        "def uniform_cost_search(graph, start, goal):\n",
        "    priority_queue = [(0, start, [])]  # (cost, current_node, path_so_far)\n",
        "    visited = set()  # Track visited nodes to avoid re-exploring them\n",
        "\n",
        "    while priority_queue:\n",
        "        cost, node, path = heapq.heappop(priority_queue)  # Get the node with the lowest cost\n",
        "\n",
        "        if node in visited:\n",
        "            continue  # Skip if already visited\n",
        "\n",
        "        path = path + [node]  # Add the node to the current path\n",
        "        visited.add(node)  # Mark as visited\n",
        "\n",
        "        if node == goal:\n",
        "            return path, cost  # Return path and total cost if goal reached\n",
        "\n",
        "        for neighbor, weight in graph.get(node, []):\n",
        "            if neighbor not in visited:\n",
        "                heapq.heappush(priority_queue, (cost + weight, neighbor, path))\n",
        "\n",
        "    return None, float(\"inf\")  # Return None if no path exists\n",
        "\n",
        "\n",
        "graph = {\n",
        "    'A': [('B', 2), ('C', 1)],\n",
        "    'B': [('A', 2), ('D', 4), ('C', 3)],\n",
        "    'C': [('A', 1), ('B', 3), ('D', 2)],\n",
        "    'D': [('B', 4), ('C', 2)]\n",
        "}\n",
        "\n",
        "# Start and Goal Nodes\n",
        "start_node = 'A'\n",
        "goal_node = 'D'\n",
        "\n",
        "path, cost = uniform_cost_search(graph, start_node, goal_node)\n",
        "\n",
        "if path:\n",
        "    print(\"Shortest Path:\", path)\n",
        "    print(\"Total Cost:\", cost)\n",
        "else:\n",
        "    print(\"No path found.\")\n"
      ],
      "metadata": {
        "colab": {
          "base_uri": "https://localhost:8080/"
        },
        "id": "G7hq1vh8pnNf",
        "outputId": "48d829aa-3767-4830-ba30-719f8ce85308"
      },
      "execution_count": null,
      "outputs": [
        {
          "output_type": "stream",
          "name": "stdout",
          "text": [
            "Shortest Path: ['A', 'C', 'D']\n",
            "Total Cost: 3\n"
          ]
        }
      ]
    },
    {
      "cell_type": "code",
      "source": [
        "import heapq\n",
        "\n",
        "# Read cube from file\n",
        "def read_cube_from_file(filename):\n",
        "    with open(filename, 'r') as file:\n",
        "        cube = [line.strip().split() for line in file]\n",
        "    return cube\n",
        "\n",
        "# Heuristic function (Manhattan Distance)\n",
        "def heuristic(a, b):\n",
        "    return abs(a[0] - b[0]) + abs(a[1] - b[1])\n",
        "\n",
        "# A* Search Algorithm\n",
        "def a_star_search(cube):\n",
        "    rows, cols = len(cube), len(cube[0])\n",
        "\n",
        "    # Find start and goal positions\n",
        "    start, goal = None, None\n",
        "    for r in range(rows):\n",
        "        for c in range(cols):\n",
        "            if cube[r][c] == 'S':  # Start position\n",
        "                start = (r, c)\n",
        "            elif cube[r][c] == 'G':  # Goal position\n",
        "                goal = (r, c)\n",
        "\n",
        "    if not start or not goal:\n",
        "        return \"Start or Goal not found!\"\n",
        "\n",
        "    # Priority queue (min-heap)\n",
        "    pq = [(0, 0, start, [])]  # (total_cost, short_wall_count, (row, col), path_taken)\n",
        "    visited = {}\n",
        "\n",
        "    # Allowed movements (Up, Down, Left, Right)\n",
        "    directions = [(-1, 0), (1, 0), (0, -1), (0, 1)]\n",
        "\n",
        "    while pq:\n",
        "        cost, short_wall_count, (r, c), path = heapq.heappop(pq)\n",
        "\n",
        "        if (r, c) == goal:\n",
        "            return path + [(r, c)], cost\n",
        "\n",
        "        if (r, c) in visited and visited[(r, c)] <= short_wall_count:\n",
        "            continue\n",
        "        visited[(r, c)] = short_wall_count\n",
        "\n",
        "        # Explore neighbors\n",
        "        for dr, dc in directions:\n",
        "            nr, nc = r + dr, c + dc\n",
        "            if 0 <= nr < rows and 0 <= nc < cols:  # Check within bounds\n",
        "                cell_value = cube[nr][nc]\n",
        "\n",
        "                if cell_value == '1':  # High wall - Cannot pass\n",
        "                    continue\n",
        "                elif cell_value == '2':  # Short wall - Can jump, increase cost\n",
        "                    heapq.heappush(pq, (cost + 1 + heuristic((nr, nc), goal), short_wall_count + 1, (nr, nc), path + [(r, c)]))\n",
        "                else:  # Open path\n",
        "                    heapq.heappush(pq, (cost + heuristic((nr, nc), goal), short_wall_count, (nr, nc), path + [(r, c)]))\n",
        "\n",
        "    return \"No path found\"\n",
        "\n",
        "filename = \"walls.txt\"  # Cube stored in a text file\n",
        "cube = read_cube_from_file(filename)\n",
        "path, short_walls_used = a_star_search(cube)\n",
        "print(\"Shortest Path:\", path)\n",
        "print(\"Short walls jumped:\", short_walls_used)\n"
      ],
      "metadata": {
        "colab": {
          "base_uri": "https://localhost:8080/"
        },
        "id": "IsHkv6wFqsUL",
        "outputId": "551fd1ea-7aec-4084-99f2-6a738930447a"
      },
      "execution_count": 6,
      "outputs": [
        {
          "output_type": "stream",
          "name": "stdout",
          "text": [
            "Shortest Path: [(0, 2), (1, 2), (2, 2), (3, 2), (4, 2), (4, 3), (4, 4), (5, 4), (6, 4), (6, 3), (6, 2), (6, 1), (6, 0)]\n",
            "Short walls jumped: 50\n"
          ]
        }
      ]
    }
  ]
}