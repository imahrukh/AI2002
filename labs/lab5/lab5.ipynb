{
  "nbformat": 4,
  "nbformat_minor": 0,
  "metadata": {
    "colab": {
      "provenance": [],
      "include_colab_link": true
    },
    "kernelspec": {
      "name": "python3",
      "display_name": "Python 3"
    },
    "language_info": {
      "name": "python"
    }
  },
  "cells": [
    {
      "cell_type": "markdown",
      "metadata": {
        "id": "view-in-github",
        "colab_type": "text"
      },
      "source": [
        "<a href=\"https://colab.research.google.com/github/imahrukh/AI2002/blob/main/labs/lab5/lab5.ipynb\" target=\"_parent\"><img src=\"https://colab.research.google.com/assets/colab-badge.svg\" alt=\"Open In Colab\"/></a>"
      ]
    },
    {
      "cell_type": "code",
      "execution_count": 2,
      "metadata": {
        "id": "stEAdddFWzt1"
      },
      "outputs": [],
      "source": [
        "# Python3 implementation of the\n",
        "from random import randint\n",
        "\n",
        "N = 8\n",
        "\n",
        "# A utility function that configures the 2D array \"board\" and array \"state\" randomly to provide a starting point for the algorithm.\n",
        "def configureRandomly(board, state):\n",
        "\n",
        "\t# Iterating through the column indices\n",
        "\tfor i in range(N):\n",
        "\n",
        "\t\t# Getting a random row index\n",
        "\t\tstate[i] = randint(0, 100000) % N;\n",
        "\n",
        "\t\t# Placing a queen on the obtained place in chessboard.\n",
        "\t\tboard[state[i]][i] = 1;\n",
        "\n",
        "# A utility function that prints the 2D array \"board\".\n",
        "def printBoard(board):\n",
        "\n",
        "\tfor i in range(N):\n",
        "\t\tprint(*board[i])\n",
        "\n",
        "# A utility function that prints the array \"state\".\n",
        "def printState( state):\n",
        "\tprint(*state)\n",
        "\n",
        "# A utility function that compares two arrays, state1 and state2 and returns True if equal and False otherwise.\n",
        "def compareStates(state1, state2):\n",
        "\n",
        "\n",
        "\tfor i in range(N):\n",
        "\t\tif (state1[i] != state2[i]):\n",
        "\t\t\treturn False;\n",
        "\n",
        "\treturn True;\n",
        "\n",
        "# A utility function that fills the 2D array \"board\" with values \"value\"\n",
        "def fill(board, value):\n",
        "\n",
        "\tfor i in range(N):\n",
        "\t\tfor j in range(N):\n",
        "\t\t\tboard[i][j] = value;"
      ]
    },
    {
      "cell_type": "code",
      "source": [
        "# This function calculates the objective value of the state(queens attacking each other) using the board by the following logic.\n",
        "def calculateObjective( board, state):\n",
        "\n",
        "\t# For each queen in a column, we check for other queens falling in the line of our current queen and if found,\n",
        "\t# any, then we increment the variable attacking count. Number of queens attacking each other, initially zero.\n",
        "\tattacking = 0;\n",
        "\n",
        "\t# Variables to index a particular\n",
        "\t# row and column on board.\n",
        "\tfor i in range(N):\n",
        "\n",
        "\t\t# At each column 'i', the queen is placed at row 'state[i]', by the definition of our state.\n",
        "\n",
        "\t\t# To the left of same row(row remains constant and col decreases)\n",
        "\t\trow = state[i]\n",
        "\t\tcol = i - 1;\n",
        "\t\twhile (col >= 0 and board[row][col] != 1) :\n",
        "\t\t\tcol -= 1\n",
        "\n",
        "\t\tif (col >= 0 and board[row][col] == 1) :\n",
        "\t\t\tattacking += 1;\n",
        "\n",
        "\t\t# To the right of same row (row remains constant and col increases)\n",
        "\t\trow = state[i]\n",
        "\t\tcol = i + 1;\n",
        "\t\twhile (col < N and board[row][col] != 1):\n",
        "\t\t\tcol += 1;\n",
        "\n",
        "\t\tif (col < N and board[row][col] == 1) :\n",
        "\t\t\tattacking += 1;\n",
        "\n",
        "\t\t# Diagonally to the left up (row and col simultaneously decrease)\n",
        "\t\trow = state[i] - 1\n",
        "\t\tcol = i - 1;\n",
        "\t\twhile (col >= 0 and row >= 0 and board[row][col] != 1) :\n",
        "\t\t\tcol-= 1;\n",
        "\t\t\trow-= 1;\n",
        "\n",
        "\t\tif (col >= 0 and row >= 0 and board[row][col] == 1) :\n",
        "\t\t\tattacking+= 1;\n",
        "\n",
        "\t\t# Diagonally to the right down (row and col simultaneously increase)\n",
        "\t\trow = state[i] + 1\n",
        "\t\tcol = i + 1;\n",
        "\t\twhile (col < N and row < N and board[row][col] != 1) :\n",
        "\t\t\tcol+= 1;\n",
        "\t\t\trow+= 1;\n",
        "\n",
        "\t\tif (col < N and row < N and board[row][col] == 1) :\n",
        "\t\t\tattacking += 1;\n",
        "\n",
        "\t\t# Diagonally to the left down (col decreases and row increases)\n",
        "\t\trow = state[i] + 1\n",
        "\t\tcol = i - 1;\n",
        "\t\twhile (col >= 0 and row < N and board[row][col] != 1) :\n",
        "\t\t\tcol -= 1;\n",
        "\t\t\trow += 1;\n",
        "\n",
        "\t\tif (col >= 0 and row < N and board[row][col] == 1) :\n",
        "\t\t\tattacking += 1;\n",
        "\n",
        "\t\t# Diagonally to the right up (col increases and row decreases)\n",
        "\t\trow = state[i] - 1\n",
        "\t\tcol = i + 1;\n",
        "\t\twhile (col < N and row >= 0 and board[row][col] != 1) :\n",
        "\t\t\tcol += 1;\n",
        "\t\t\trow -= 1;\n",
        "\n",
        "\t\tif (col < N and row >= 0 and board[row][col] == 1) :\n",
        "\t\t\tattacking += 1;\n",
        "\n",
        "\t# Return pairs.\n",
        "\treturn int(attacking / 2);"
      ],
      "metadata": {
        "id": "Y_HRwAdgY0vz"
      },
      "execution_count": 3,
      "outputs": []
    },
    {
      "cell_type": "code",
      "source": [
        "# A utility function that generates a board configuration given the state.\n",
        "def generateBoard( board, state):\n",
        "\tfill(board, 0);\n",
        "\tfor i in range(N):\n",
        "\t\tboard[state[i]][i] = 1;\n",
        "\n",
        "# A utility function that copies contents of state2 to state1.\n",
        "def copyState( state1, state2):\n",
        "\n",
        "\tfor i in range(N):\n",
        "\t\tstate1[i] = state2[i];"
      ],
      "metadata": {
        "id": "ZbdnqKida1Uu"
      },
      "execution_count": 4,
      "outputs": []
    },
    {
      "cell_type": "code",
      "source": [
        "#This function gets the neighbour of the current state having the least objective value amongst all neighbours as well as the current state.\n",
        "def getNeighbors(state):\n",
        "    neighbors = []\n",
        "    for col in range(N):\n",
        "        for row in range(N):\n",
        "            if row != state[col]:\n",
        "                new_state = state[:]\n",
        "                new_state[col] = row\n",
        "                neighbors.append(new_state)\n",
        "    return neighbors"
      ],
      "metadata": {
        "id": "KyPW6_KlavpJ"
      },
      "execution_count": 5,
      "outputs": []
    },
    {
      "cell_type": "code",
      "source": [
        "def getBestNeighbor(board, state):\n",
        "    best_state = state[:]\n",
        "    best_value = calculateObjective(board, state)\n",
        "\n",
        "    neighbors = getNeighbors(state)\n",
        "    for neighbor in neighbors:\n",
        "        temp_board = [[0 for _ in range(N)] for _ in range(N)]\n",
        "        generateBoard(temp_board, neighbor)\n",
        "        value = calculateObjective(temp_board, neighbor)\n",
        "\n",
        "        if value < best_value:\n",
        "            best_state = neighbor[:]\n",
        "            best_value = value\n",
        "\n",
        "    return best_state, best_value\n"
      ],
      "metadata": {
        "id": "a854q0nI4cQB"
      },
      "execution_count": 9,
      "outputs": []
    },
    {
      "cell_type": "code",
      "source": [
        "def hillClimbing(board, state):\n",
        "    generateBoard(board, state)\n",
        "    current_value = calculateObjective(board, state)\n",
        "\n",
        "    while True:\n",
        "        next_state, next_value = getBestNeighbor(board, state)\n",
        "\n",
        "        if next_value >= current_value:\n",
        "            break  # Local optimum reached\n",
        "\n",
        "        state = next_state[:]\n",
        "        current_value = next_value\n",
        "        generateBoard(board, state)\n",
        "\n",
        "    print(\"Final Solution:\")\n",
        "    printBoard(board)"
      ],
      "metadata": {
        "id": "a-EkMJVBZN0B"
      },
      "execution_count": 7,
      "outputs": []
    },
    {
      "cell_type": "code",
      "source": [
        "# Driver code\n",
        "state = [0] * N\n",
        "board = [[0 for _ in range(N)] for _ in range(N)]\n",
        "\n",
        "# Getting a starting point by\n",
        "# randomly configuring the board\n",
        "configureRandomly(board, state);\n",
        "\n",
        "# Do hill climbing on the board obtained\n",
        "hillClimbing(board, state);"
      ],
      "metadata": {
        "id": "y70r8DqtZH9u",
        "colab": {
          "base_uri": "https://localhost:8080/"
        },
        "outputId": "98e4d762-37f1-4429-d5c3-3bb15377c40b"
      },
      "execution_count": 10,
      "outputs": [
        {
          "output_type": "stream",
          "name": "stdout",
          "text": [
            "Final Solution:\n",
            "0 0 0 0 0 0 0 1\n",
            "1 0 0 0 0 0 0 0\n",
            "0 0 0 1 0 0 0 0\n",
            "0 1 0 0 0 0 1 0\n",
            "0 0 0 0 0 0 0 0\n",
            "0 0 0 0 0 1 0 0\n",
            "0 0 1 0 0 0 0 0\n",
            "0 0 0 0 1 0 0 0\n"
          ]
        }
      ]
    }
  ]
}