{
  "nbformat": 4,
  "nbformat_minor": 0,
  "metadata": {
    "colab": {
      "provenance": [],
      "authorship_tag": "ABX9TyOkIx3b5O+kxLYiN6u2V2y8",
      "include_colab_link": true
    },
    "kernelspec": {
      "name": "python3",
      "display_name": "Python 3"
    },
    "language_info": {
      "name": "python"
    }
  },
  "cells": [
    {
      "cell_type": "markdown",
      "metadata": {
        "id": "view-in-github",
        "colab_type": "text"
      },
      "source": [
        "<a href=\"https://colab.research.google.com/github/imahrukh/AI2002/blob/main/labs/lab6/lab6.ipynb\" target=\"_parent\"><img src=\"https://colab.research.google.com/assets/colab-badge.svg\" alt=\"Open In Colab\"/></a>"
      ]
    },
    {
      "cell_type": "code",
      "execution_count": 1,
      "metadata": {
        "id": "S7GSIJjaKwQX"
      },
      "outputs": [],
      "source": [
        "import random\n",
        "\n",
        "# Problem data\n",
        "weights = [10, 20, 30]\n",
        "values = [60, 100, 120]\n",
        "capacity = 50\n",
        "num_items = len(weights)\n",
        "\n",
        "# Genetic Algorithm parameters\n",
        "population_size = 10\n",
        "generations = 100\n",
        "mutation_rate = 0.1\n",
        "\n",
        "# Initialize population\n",
        "def generate_individual():\n",
        "    return [random.randint(0, 1) for _ in range(num_items)]\n",
        "\n",
        "def generate_population():\n",
        "    return [generate_individual() for _ in range(population_size)]"
      ]
    },
    {
      "cell_type": "code",
      "source": [
        "# Fitness function\n",
        "def fitness(individual):\n",
        "    total_weight = sum(individual[i] * weights[i] for i in range(num_items))\n",
        "    total_value = sum(individual[i] * values[i] for i in range(num_items))\n",
        "    if total_weight > capacity:\n",
        "        return 0  # Invalid solution\n",
        "    return total_value"
      ],
      "metadata": {
        "id": "LUCVg5_ELHPZ"
      },
      "execution_count": 2,
      "outputs": []
    },
    {
      "cell_type": "code",
      "source": [
        "# Selection (tournament)\n",
        "def select_parents(population):\n",
        "    selected = random.sample(population, 2)\n",
        "    return max(selected, key=fitness), min(selected, key=fitness)\n"
      ],
      "metadata": {
        "id": "ak20HmrqLHg4"
      },
      "execution_count": 3,
      "outputs": []
    },
    {
      "cell_type": "code",
      "source": [
        "# Crossover (single-point)\n",
        "def crossover(parent1, parent2):\n",
        "    point = random.randint(1, num_items - 1)\n",
        "    child = parent1[:point] + parent2[point:]\n",
        "    return child"
      ],
      "metadata": {
        "id": "1yGPj0meLHyA"
      },
      "execution_count": 4,
      "outputs": []
    },
    {
      "cell_type": "code",
      "source": [
        "# Mutation\n",
        "def mutate(individual):\n",
        "    for i in range(num_items):\n",
        "        if random.random() < mutation_rate:\n",
        "            individual[i] = 1 - individual[i]  # Flip bit"
      ],
      "metadata": {
        "id": "p7vg9OVkLTl5"
      },
      "execution_count": 5,
      "outputs": []
    },
    {
      "cell_type": "code",
      "source": [
        "# Genetic Algorithm\n",
        "def genetic_algorithm():\n",
        "    population = generate_population()\n",
        "\n",
        "    for _ in range(generations):\n",
        "        new_population = []\n",
        "        for _ in range(population_size):\n",
        "            parent1, parent2 = select_parents(population)\n",
        "            child = crossover(parent1, parent2)\n",
        "            mutate(child)\n",
        "            new_population.append(child)\n",
        "        population = new_population\n",
        "\n",
        "    best_individual = max(population, key=fitness)\n",
        "    return best_individual, fitness(best_individual)"
      ],
      "metadata": {
        "id": "p1c-H2niLfNX"
      },
      "execution_count": 6,
      "outputs": []
    },
    {
      "cell_type": "code",
      "source": [
        "def main():\n",
        "  solution, solution_value = genetic_algorithm()\n",
        "  print(\"Selected items:\", solution)\n",
        "  print(\"Maximum value:\", solution_value)"
      ],
      "metadata": {
        "id": "8Z94sb2bLe4Y"
      },
      "execution_count": 8,
      "outputs": []
    },
    {
      "cell_type": "code",
      "source": [],
      "metadata": {
        "id": "WqX8GQmRL1FI"
      },
      "execution_count": null,
      "outputs": []
    }
  ]
}