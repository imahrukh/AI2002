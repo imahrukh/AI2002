{
  "cells": [
    {
      "cell_type": "markdown",
      "metadata": {
        "id": "view-in-github",
        "colab_type": "text"
      },
      "source": [
        "<a href=\"https://colab.research.google.com/github/imahrukh/AI2002/blob/main/labs/lab9/22L_6702.ipynb\" target=\"_parent\"><img src=\"https://colab.research.google.com/assets/colab-badge.svg\" alt=\"Open In Colab\"/></a>"
      ]
    },
    {
      "cell_type": "code",
      "execution_count": null,
      "id": "b52152ae",
      "metadata": {
        "id": "b52152ae",
        "outputId": "80482a51-d3fb-42b8-f79c-01aeef167d7a"
      },
      "outputs": [
        {
          "name": "stdout",
          "output_type": "stream",
          "text": [
            "<class 'pandas.core.frame.DataFrame'>\n",
            "RangeIndex: 1309 entries, 0 to 1308\n",
            "Data columns (total 28 columns):\n",
            " #   Column       Non-Null Count  Dtype  \n",
            "---  ------       --------------  -----  \n",
            " 0   Passengerid  1309 non-null   int64  \n",
            " 1   Age          1309 non-null   float64\n",
            " 2   Fare         1309 non-null   float64\n",
            " 3   Sex          1309 non-null   int64  \n",
            " 4   sibsp        1309 non-null   int64  \n",
            " 5   zero         1309 non-null   int64  \n",
            " 6   zero.1       1309 non-null   int64  \n",
            " 7   zero.2       1309 non-null   int64  \n",
            " 8   zero.3       1309 non-null   int64  \n",
            " 9   zero.4       1309 non-null   int64  \n",
            " 10  zero.5       1309 non-null   int64  \n",
            " 11  zero.6       1309 non-null   int64  \n",
            " 12  Parch        1309 non-null   int64  \n",
            " 13  zero.7       1309 non-null   int64  \n",
            " 14  zero.8       1309 non-null   int64  \n",
            " 15  zero.9       1309 non-null   int64  \n",
            " 16  zero.10      1309 non-null   int64  \n",
            " 17  zero.11      1309 non-null   int64  \n",
            " 18  zero.12      1309 non-null   int64  \n",
            " 19  zero.13      1309 non-null   int64  \n",
            " 20  zero.14      1309 non-null   int64  \n",
            " 21  Pclass       1309 non-null   int64  \n",
            " 22  zero.15      1309 non-null   int64  \n",
            " 23  zero.16      1309 non-null   int64  \n",
            " 24  Embarked     1307 non-null   float64\n",
            " 25  zero.17      1309 non-null   int64  \n",
            " 26  zero.18      1309 non-null   int64  \n",
            " 27  2urvived     1309 non-null   int64  \n",
            "dtypes: float64(3), int64(25)\n",
            "memory usage: 286.5 KB\n"
          ]
        }
      ],
      "source": [
        "import pandas as pd\n",
        "\n",
        "df = pd.read_csv('train_and_test2.csv')\n",
        "df.info()"
      ]
    },
    {
      "cell_type": "code",
      "execution_count": null,
      "id": "7e9e96ba",
      "metadata": {
        "id": "7e9e96ba",
        "outputId": "16d8f611-948b-444f-a0fd-b4fb18069d1e"
      },
      "outputs": [
        {
          "name": "stdout",
          "output_type": "stream",
          "text": [
            "Passengerid    0\n",
            "Age            0\n",
            "Fare           0\n",
            "Sex            0\n",
            "sibsp          0\n",
            "zero           0\n",
            "zero.1         0\n",
            "zero.2         0\n",
            "zero.3         0\n",
            "zero.4         0\n",
            "zero.5         0\n",
            "zero.6         0\n",
            "Parch          0\n",
            "zero.7         0\n",
            "zero.8         0\n",
            "zero.9         0\n",
            "zero.10        0\n",
            "zero.11        0\n",
            "zero.12        0\n",
            "zero.13        0\n",
            "zero.14        0\n",
            "Pclass         0\n",
            "zero.15        0\n",
            "zero.16        0\n",
            "Embarked       2\n",
            "zero.17        0\n",
            "zero.18        0\n",
            "2urvived       0\n",
            "dtype: int64\n"
          ]
        }
      ],
      "source": [
        "# Count null values in each column\n",
        "null_counts = df.isnull().sum()\n",
        "print(null_counts)"
      ]
    },
    {
      "cell_type": "code",
      "execution_count": null,
      "id": "01df942d",
      "metadata": {
        "id": "01df942d",
        "outputId": "c1c3c9ad-a555-4bed-df1a-958ec5faeb1d"
      },
      "outputs": [
        {
          "name": "stdout",
          "output_type": "stream",
          "text": [
            "<class 'pandas.core.frame.DataFrame'>\n",
            "RangeIndex: 1309 entries, 0 to 1308\n",
            "Data columns (total 28 columns):\n",
            " #   Column       Non-Null Count  Dtype  \n",
            "---  ------       --------------  -----  \n",
            " 0   Passengerid  1309 non-null   int64  \n",
            " 1   Age          1309 non-null   float64\n",
            " 2   Fare         1309 non-null   float64\n",
            " 3   Sex          1309 non-null   int64  \n",
            " 4   sibsp        1309 non-null   int64  \n",
            " 5   zero         1309 non-null   int64  \n",
            " 6   zero.1       1309 non-null   int64  \n",
            " 7   zero.2       1309 non-null   int64  \n",
            " 8   zero.3       1309 non-null   int64  \n",
            " 9   zero.4       1309 non-null   int64  \n",
            " 10  zero.5       1309 non-null   int64  \n",
            " 11  zero.6       1309 non-null   int64  \n",
            " 12  Parch        1309 non-null   int64  \n",
            " 13  zero.7       1309 non-null   int64  \n",
            " 14  zero.8       1309 non-null   int64  \n",
            " 15  zero.9       1309 non-null   int64  \n",
            " 16  zero.10      1309 non-null   int64  \n",
            " 17  zero.11      1309 non-null   int64  \n",
            " 18  zero.12      1309 non-null   int64  \n",
            " 19  zero.13      1309 non-null   int64  \n",
            " 20  zero.14      1309 non-null   int64  \n",
            " 21  Pclass       1309 non-null   int64  \n",
            " 22  zero.15      1309 non-null   int64  \n",
            " 23  zero.16      1309 non-null   int64  \n",
            " 24  Embarked     1309 non-null   float64\n",
            " 25  zero.17      1309 non-null   int64  \n",
            " 26  zero.18      1309 non-null   int64  \n",
            " 27  2urvived     1309 non-null   int64  \n",
            "dtypes: float64(3), int64(25)\n",
            "memory usage: 286.5 KB\n",
            "<class 'pandas.core.frame.DataFrame'>\n",
            "RangeIndex: 1309 entries, 0 to 1308\n",
            "Data columns (total 28 columns):\n",
            " #   Column       Non-Null Count  Dtype  \n",
            "---  ------       --------------  -----  \n",
            " 0   Passengerid  1309 non-null   int64  \n",
            " 1   Age          1309 non-null   float64\n",
            " 2   Fare         1309 non-null   float64\n",
            " 3   Sex          1309 non-null   int64  \n",
            " 4   sibsp        1309 non-null   int64  \n",
            " 5   zero         1309 non-null   int64  \n",
            " 6   zero.1       1309 non-null   int64  \n",
            " 7   zero.2       1309 non-null   int64  \n",
            " 8   zero.3       1309 non-null   int64  \n",
            " 9   zero.4       1309 non-null   int64  \n",
            " 10  zero.5       1309 non-null   int64  \n",
            " 11  zero.6       1309 non-null   int64  \n",
            " 12  Parch        1309 non-null   int64  \n",
            " 13  zero.7       1309 non-null   int64  \n",
            " 14  zero.8       1309 non-null   int64  \n",
            " 15  zero.9       1309 non-null   int64  \n",
            " 16  zero.10      1309 non-null   int64  \n",
            " 17  zero.11      1309 non-null   int64  \n",
            " 18  zero.12      1309 non-null   int64  \n",
            " 19  zero.13      1309 non-null   int64  \n",
            " 20  zero.14      1309 non-null   int64  \n",
            " 21  Pclass       1309 non-null   int64  \n",
            " 22  zero.15      1309 non-null   int64  \n",
            " 23  zero.16      1309 non-null   int64  \n",
            " 24  Embarked     1309 non-null   float64\n",
            " 25  zero.17      1309 non-null   int64  \n",
            " 26  zero.18      1309 non-null   int64  \n",
            " 27  2urvived     1309 non-null   int64  \n",
            "dtypes: float64(3), int64(25)\n",
            "memory usage: 286.5 KB\n"
          ]
        }
      ],
      "source": [
        "\n",
        "# Calculate the mean of the column, ignoring NaN values\n",
        "mean_value = df['Embarked'].mean()\n",
        "# Impute the null values with the mean\n",
        "df['Embarked'].fillna(mean_value, inplace=True)\n",
        "df.info()\n",
        "\n",
        "# Calculate the mean of the column, ignoring NaN values\n",
        "mode_value = df['Sex'].mode()\n",
        "# Impute the null values with the mean\n",
        "df['Sex'].fillna(mode_value, inplace=True)\n",
        "df.info()\n"
      ]
    },
    {
      "cell_type": "code",
      "execution_count": null,
      "id": "5efbc8a4",
      "metadata": {
        "id": "5efbc8a4",
        "outputId": "b8ded809-13e6-4056-c6ba-9341760093f3"
      },
      "outputs": [
        {
          "name": "stdout",
          "output_type": "stream",
          "text": [
            "<class 'pandas.core.frame.DataFrame'>\n",
            "Int64Index: 1309 entries, 0 to 1308\n",
            "Data columns (total 28 columns):\n",
            " #   Column       Non-Null Count  Dtype  \n",
            "---  ------       --------------  -----  \n",
            " 0   Passengerid  1309 non-null   int64  \n",
            " 1   Age          1309 non-null   float64\n",
            " 2   Fare         1309 non-null   float64\n",
            " 3   Sex          1309 non-null   int64  \n",
            " 4   sibsp        1309 non-null   int64  \n",
            " 5   zero         1309 non-null   int64  \n",
            " 6   zero.1       1309 non-null   int64  \n",
            " 7   zero.2       1309 non-null   int64  \n",
            " 8   zero.3       1309 non-null   int64  \n",
            " 9   zero.4       1309 non-null   int64  \n",
            " 10  zero.5       1309 non-null   int64  \n",
            " 11  zero.6       1309 non-null   int64  \n",
            " 12  Parch        1309 non-null   int64  \n",
            " 13  zero.7       1309 non-null   int64  \n",
            " 14  zero.8       1309 non-null   int64  \n",
            " 15  zero.9       1309 non-null   int64  \n",
            " 16  zero.10      1309 non-null   int64  \n",
            " 17  zero.11      1309 non-null   int64  \n",
            " 18  zero.12      1309 non-null   int64  \n",
            " 19  zero.13      1309 non-null   int64  \n",
            " 20  zero.14      1309 non-null   int64  \n",
            " 21  Pclass       1309 non-null   int64  \n",
            " 22  zero.15      1309 non-null   int64  \n",
            " 23  zero.16      1309 non-null   int64  \n",
            " 24  Embarked     1309 non-null   float64\n",
            " 25  zero.17      1309 non-null   int64  \n",
            " 26  zero.18      1309 non-null   int64  \n",
            " 27  2urvived     1309 non-null   int64  \n",
            "dtypes: float64(3), int64(25)\n",
            "memory usage: 296.6 KB\n"
          ]
        }
      ],
      "source": [
        "#drop null values from data\n",
        "df.dropna(inplace=True)\n",
        "df.info()\n"
      ]
    },
    {
      "cell_type": "code",
      "execution_count": null,
      "id": "051a62d8",
      "metadata": {
        "id": "051a62d8"
      },
      "outputs": [],
      "source": [
        "import pandas as pd\n",
        "import numpy as np\n",
        "import matplotlib.pyplot as plt\n",
        "import seaborn as sns\n",
        "from sklearn.model_selection import train_test_split\n",
        "from sklearn.linear_model import LinearRegression\n",
        "from sklearn.metrics import mean_squared_error, mean_absolute_error\n",
        "from sklearn import preprocessing"
      ]
    },
    {
      "cell_type": "code",
      "execution_count": null,
      "id": "49583f27",
      "metadata": {
        "id": "49583f27",
        "outputId": "283e5d2a-902f-442c-e13f-45f4bb684607"
      },
      "outputs": [
        {
          "name": "stdout",
          "output_type": "stream",
          "text": [
            "mean_squared_error :  0.13740458015267176\n",
            "mean_absolute_error :  0.13740458015267176\n"
          ]
        },
        {
          "name": "stderr",
          "output_type": "stream",
          "text": [
            "C:\\ProgramData\\Anaconda3\\lib\\site-packages\\sklearn\\linear_model\\_logistic.py:763: ConvergenceWarning: lbfgs failed to converge (status=1):\n",
            "STOP: TOTAL NO. of ITERATIONS REACHED LIMIT.\n",
            "\n",
            "Increase the number of iterations (max_iter) or scale the data as shown in:\n",
            "    https://scikit-learn.org/stable/modules/preprocessing.html\n",
            "Please also refer to the documentation for alternative solver options:\n",
            "    https://scikit-learn.org/stable/modules/linear_model.html#logistic-regression\n",
            "  n_iter_i = _check_optimize_result(\n"
          ]
        }
      ],
      "source": [
        "from sklearn.linear_model import LogisticRegression\n",
        "#creating feature variables\n",
        "X = df.drop('2urvived', axis=1)  # Features\n",
        "y = df['2urvived']  # Target variable\n",
        "\n",
        "# Split data into training and testing sets\n",
        "X_train, X_test, y_train, y_test = train_test_split(X, y, test_size=0.2, random_state=42) # Adjust test_size\n",
        "\n",
        "\n",
        "# Initialize and train the Regression model\n",
        "model = LogisticRegression()\n",
        "model.fit(X_train, y_train)\n",
        "\n",
        "# Make predictions on the test set\n",
        "y_pred = model.predict(X_test)\n",
        "\n",
        "# Evaluate the model\n",
        "print(\n",
        "  'mean_squared_error : ', mean_squared_error(y_test, y_pred))\n",
        "print(\n",
        "  'mean_absolute_error : ', mean_absolute_error(y_test, y_pred))\n"
      ]
    },
    {
      "cell_type": "code",
      "execution_count": null,
      "id": "e7a8b65e",
      "metadata": {
        "id": "e7a8b65e",
        "outputId": "c25beee6-453b-4a53-f0ff-29460b903e0c"
      },
      "outputs": [
        {
          "name": "stdout",
          "output_type": "stream",
          "text": [
            "              precision    recall  f1-score   support\n",
            "\n",
            "           0       0.87      0.96      0.91       189\n",
            "           1       0.85      0.62      0.71        73\n",
            "\n",
            "    accuracy                           0.86       262\n",
            "   macro avg       0.86      0.79      0.81       262\n",
            "weighted avg       0.86      0.86      0.86       262\n",
            "\n"
          ]
        }
      ],
      "source": [
        "from sklearn.metrics import classification_report\n",
        "\n",
        "# print the classification report\n",
        "print(classification_report(y_test, y_pred))\n"
      ]
    },
    {
      "cell_type": "code",
      "execution_count": null,
      "id": "7ef6c376",
      "metadata": {
        "id": "7ef6c376",
        "outputId": "e84c93ef-12ed-4418-ea29-dd1c2175261d"
      },
      "outputs": [
        {
          "name": "stdout",
          "output_type": "stream",
          "text": [
            "Data Balance Factor: 0.3536711478800414\n"
          ]
        }
      ],
      "source": [
        "#calculate balance factor\n",
        "class_counts = y.value_counts()\n",
        "balance_factor = class_counts.min() / class_counts.max()\n",
        "\n",
        "print(f\"Data Balance Factor: {balance_factor}\")\n"
      ]
    },
    {
      "cell_type": "code",
      "execution_count": null,
      "id": "cb1b783a",
      "metadata": {
        "id": "cb1b783a",
        "outputId": "dcb699e5-782a-493d-ba64-250d70474811"
      },
      "outputs": [
        {
          "data": {
            "image/png": "[encoded data removed]",
            "text/plain": [
              "<Figure size 576x432 with 2 Axes>"
            ]
          },
          "metadata": {
            "needs_background": "light"
          },
          "output_type": "display_data"
        },
        {
          "data": {
            "image/png": "[encoded data removed]",
            "text/plain": [
              "<Figure size 576x432 with 1 Axes>"
            ]
          },
          "metadata": {
            "needs_background": "light"
          },
          "output_type": "display_data"
        }
      ],
      "source": [
        "from sklearn.metrics import confusion_matrix, roc_curve, auc\n",
        "# Confusion Matrix\n",
        "cm = confusion_matrix(y_test, y_pred)\n",
        "plt.figure(figsize=(8, 6))\n",
        "plt.imshow(cm, interpolation='nearest', cmap=plt.cm.Blues)\n",
        "plt.title('Confusion Matrix')\n",
        "plt.colorbar()\n",
        "plt.xlabel('Predicted Label')\n",
        "plt.ylabel('True Label')\n",
        "plt.show()\n",
        "\n",
        "\n",
        "# ROC Curve\n",
        "y_prob = model.predict_proba(X_test)[:, 1] # Probability of positive class\n",
        "fpr, tpr, thresholds = roc_curve(y_test, y_prob)\n",
        "roc_auc = auc(fpr, tpr)\n",
        "\n",
        "plt.figure(figsize=(8, 6))\n",
        "plt.plot(fpr, tpr, color='darkorange', lw=2, label='ROC curve (area = %0.2f)' % roc_auc)\n",
        "plt.plot([0, 1], [0, 1], color='navy', lw=2, linestyle='--')\n",
        "plt.xlim([0.0, 1.0])\n",
        "plt.ylim([0.0, 1.05])\n",
        "plt.xlabel('False Positive Rate')\n",
        "plt.ylabel('True Positive Rate')\n",
        "plt.title('Receiver Operating Characteristic')\n",
        "plt.legend(loc=\"lower right\")\n",
        "plt.show()"
      ]
    },
    {
      "cell_type": "code",
      "execution_count": null,
      "id": "d63c4396",
      "metadata": {
        "id": "d63c4396"
      },
      "outputs": [],
      "source": []
    }
  ],
  "metadata": {
    "kernelspec": {
      "display_name": "Python 3",
      "language": "python",
      "name": "python3"
    },
    "language_info": {
      "codemirror_mode": {
        "name": "ipython",
        "version": 3
      },
      "file_extension": ".py",
      "mimetype": "text/x-python",
      "name": "python",
      "nbconvert_exporter": "python",
      "pygments_lexer": "ipython3",
      "version": "3.8.8"
    },
    "colab": {
      "provenance": [],
      "include_colab_link": true
    }
  },
  "nbformat": 4,
  "nbformat_minor": 5
}